{
 "cells": [
  {
   "cell_type": "markdown",
   "source": [
    "**Multivariate OLS: Deaths**"
   ],
   "metadata": {}
  },
  {
   "cell_type": "code",
   "execution_count": 54,
   "source": [
    "import pandas as pd\n",
    "import numpy as np\n",
    "# from sklearn.linear_model import LinearRegression\n",
    "from itertools import product\n",
    "import warnings\n",
    "warnings.filterwarnings(\"ignore\")\n",
    "from statsmodels.graphics.tsaplots import plot_pacf\n",
    "from statsmodels.graphics.tsaplots import plot_acf"
   ],
   "outputs": [],
   "metadata": {}
  },
  {
   "cell_type": "code",
   "execution_count": 55,
   "source": [
    "combined = pd.read_csv(\"Data/Combined_Dataset.csv\", index_col=\"Unnamed: 0\")"
   ],
   "outputs": [],
   "metadata": {}
  },
  {
   "cell_type": "code",
   "execution_count": 56,
   "source": [
    "combined.set_index(\"date\", inplace = True)"
   ],
   "outputs": [],
   "metadata": {}
  },
  {
   "cell_type": "code",
   "execution_count": 57,
   "source": [
    "y_var = 'delta_deaths_per_capita'"
   ],
   "outputs": [],
   "metadata": {}
  },
  {
   "cell_type": "code",
   "execution_count": 58,
   "source": [
    "from statsmodels.tsa.arima.model import ARIMA\n",
    "from tqdm import tqdm\n",
    "import statsmodels.formula.api as sm"
   ],
   "outputs": [],
   "metadata": {}
  },
  {
   "cell_type": "code",
   "execution_count": 59,
   "source": [
    "combined['delta_deaths_per_capita_l1'] = combined['delta_deaths_per_capita'].shift(1).fillna(0)"
   ],
   "outputs": [],
   "metadata": {}
  },
  {
   "cell_type": "code",
   "execution_count": 60,
   "source": [
    "combined.rename(columns = {\"delta_deaths_per_capita_United Kingdom\": \"delta_deaths_per_capita_United_Kingdom\"}, inplace = True)"
   ],
   "outputs": [],
   "metadata": {}
  },
  {
   "cell_type": "code",
   "execution_count": 61,
   "source": [
    "combined['delta_deaths_per_capita_l2']= combined['delta_deaths_per_capita'].shift(2).fillna(0)\n",
    "combined['delta_deaths_per_capita_l3']= combined['delta_deaths_per_capita'].shift(3).fillna(0)\n",
    "combined['delta_deaths_per_capita_l4']= combined['delta_deaths_per_capita'].shift(4).fillna(0)\n",
    "combined['delta_deaths_per_capita_l5']= combined['delta_deaths_per_capita'].shift(5).fillna(0)\n",
    "combined['delta_deaths_per_capita_l6']= combined['delta_deaths_per_capita'].shift(6).fillna(0)\n",
    "combined['delta_deaths_per_capita_l7']= combined['delta_deaths_per_capita'].shift(7).fillna(0)\n",
    "combined['delta_deaths_per_capita_l14']= combined['delta_deaths_per_capita'].shift(14).fillna(0)\n",
    "combined['delta_deaths_per_capita_l30']= combined['delta_deaths_per_capita'].shift(30).fillna(0)"
   ],
   "outputs": [],
   "metadata": {}
  },
  {
   "cell_type": "code",
   "execution_count": 64,
   "source": [
    "model=sm.ols(f'delta_deaths_per_capita ~ delta_deaths_per_capita_United_Kingdom +  delta_deaths_per_capita_l1 + delta_deaths_per_capita_l2 + delta_deaths_per_capita_l3 + delta_deaths_per_capita_l4  + delta_deaths_per_capita_l5 + delta_deaths_per_capita_l6+ delta_deaths_per_capita_l7 +  delta_deaths_per_capita_l14 +  delta_deaths_per_capita_l30 + season + full_lockdown', data= combined)\n",
    "results=model.fit(cov_type='HAC',\n",
    "                                            cov_kwds={'maxlags':12,'use_correction':True})\n",
    "\n",
    "\n"
   ],
   "outputs": [],
   "metadata": {}
  },
  {
   "cell_type": "code",
   "execution_count": 65,
   "source": [
    "for table in results.summary().tables:\n",
    "    print(table.as_latex_tabular())"
   ],
   "outputs": [
    {
     "output_type": "stream",
     "name": "stdout",
     "text": [
      "\\begin{center}\n",
      "\\begin{tabular}{lclc}\n",
      "\\toprule\n",
      "\\textbf{Dep. Variable:}    & delta\\_deaths\\_per\\_capita & \\textbf{  R-squared:         } &     0.650   \\\\\n",
      "\\textbf{Model:}            &            OLS             & \\textbf{  Adj. R-squared:    } &     0.643   \\\\\n",
      "\\textbf{Method:}           &       Least Squares        & \\textbf{  F-statistic:       } &     52.36   \\\\\n",
      "\\textbf{Date:}             &      Thu, 12 May 2022      & \\textbf{  Prob (F-statistic):} &  4.14e-85   \\\\\n",
      "\\textbf{Time:}             &          10:55:40          & \\textbf{  Log-Likelihood:    } &    7112.7   \\\\\n",
      "\\textbf{No. Observations:} &              611           & \\textbf{  AIC:               } & -1.420e+04  \\\\\n",
      "\\textbf{Df Residuals:}     &              598           & \\textbf{  BIC:               } & -1.414e+04  \\\\\n",
      "\\textbf{Df Model:}         &               12           & \\textbf{                     } &             \\\\\n",
      "\\textbf{Covariance Type:}  &            HAC             & \\textbf{                     } &             \\\\\n",
      "\\bottomrule\n",
      "\\end{tabular}\n",
      "%\\caption{OLS Regression Results}\n",
      "\\end{center}\n",
      "\\begin{center}\n",
      "\\begin{tabular}{lcccccc}\n",
      "\\toprule\n",
      "                                                     & \\textbf{coef} & \\textbf{std err} & \\textbf{z} & \\textbf{P$> |$z$|$} & \\textbf{[0.025} & \\textbf{0.975]}  \\\\\n",
      "\\midrule\n",
      "\\textbf{Intercept}                                   &    1.525e-07  &     2.48e-07     &     0.616  &         0.538        &    -3.33e-07    &     6.38e-07     \\\\\n",
      "\\textbf{delta\\_deaths\\_per\\_capita\\_United\\_Kingdom} &       0.2873  &        0.060     &     4.765  &         0.000        &        0.169    &        0.405     \\\\\n",
      "\\textbf{delta\\_deaths\\_per\\_capita\\_l1}              &       0.0330  &        0.038     &     0.861  &         0.389        &       -0.042    &        0.108     \\\\\n",
      "\\textbf{delta\\_deaths\\_per\\_capita\\_l2}              &       0.0191  &        0.025     &     0.753  &         0.451        &       -0.031    &        0.069     \\\\\n",
      "\\textbf{delta\\_deaths\\_per\\_capita\\_l3}              &      -0.0568  &        0.036     &    -1.596  &         0.110        &       -0.127    &        0.013     \\\\\n",
      "\\textbf{delta\\_deaths\\_per\\_capita\\_l4}              &       0.1627  &        0.064     &     2.526  &         0.012        &        0.036    &        0.289     \\\\\n",
      "\\textbf{delta\\_deaths\\_per\\_capita\\_l5}              &      -0.0401  &        0.022     &    -1.820  &         0.069        &       -0.083    &        0.003     \\\\\n",
      "\\textbf{delta\\_deaths\\_per\\_capita\\_l6}              &       0.0396  &        0.048     &     0.827  &         0.408        &       -0.054    &        0.134     \\\\\n",
      "\\textbf{delta\\_deaths\\_per\\_capita\\_l7}              &       0.2947  &        0.126     &     2.333  &         0.020        &        0.047    &        0.542     \\\\\n",
      "\\textbf{delta\\_deaths\\_per\\_capita\\_l14}             &       0.1450  &        0.070     &     2.062  &         0.039        &        0.007    &        0.283     \\\\\n",
      "\\textbf{delta\\_deaths\\_per\\_capita\\_l30}             &      -0.0629  &        0.021     &    -3.021  &         0.003        &       -0.104    &       -0.022     \\\\\n",
      "\\textbf{season}                                      &    -1.52e-07  &     1.25e-07     &    -1.217  &         0.224        &    -3.97e-07    &     9.29e-08     \\\\\n",
      "\\textbf{full\\_lockdown}                              &   -1.035e-07  &     1.74e-07     &    -0.595  &         0.552        &    -4.45e-07    &     2.38e-07     \\\\\n",
      "\\bottomrule\n",
      "\\end{tabular}\n",
      "\\end{center}\n",
      "\\begin{center}\n",
      "\\begin{tabular}{lclc}\n",
      "\\toprule\n",
      "\\textbf{Omnibus:}       & 866.306 & \\textbf{  Durbin-Watson:     } &     1.905   \\\\\n",
      "\\textbf{Prob(Omnibus):} &   0.000 & \\textbf{  Jarque-Bera (JB):  } & 328073.312  \\\\\n",
      "\\textbf{Skew:}          &   7.276 & \\textbf{  Prob(JB):          } &      0.00   \\\\\n",
      "\\textbf{Kurtosis:}      & 115.583 & \\textbf{  Cond. No.          } &  1.12e+06   \\\\\n",
      "\\bottomrule\n",
      "\\end{tabular}\n",
      "\\end{center}\n"
     ]
    }
   ],
   "metadata": {}
  }
 ],
 "metadata": {
  "orig_nbformat": 4,
  "language_info": {
   "name": "python",
   "version": "3.8.8",
   "mimetype": "text/x-python",
   "codemirror_mode": {
    "name": "ipython",
    "version": 3
   },
   "pygments_lexer": "ipython3",
   "nbconvert_exporter": "python",
   "file_extension": ".py"
  },
  "kernelspec": {
   "name": "python3",
   "display_name": "Python 3.8.8 64-bit ('base': conda)"
  },
  "interpreter": {
   "hash": "4e7a58de4b7e505b0e82f0adcc21bb9621f61c2c1c0bdf66b0394a18a0c298a7"
  }
 },
 "nbformat": 4,
 "nbformat_minor": 2
}