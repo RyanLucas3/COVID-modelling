{
 "cells": [
  {
   "cell_type": "code",
   "execution_count": null,
   "source": [
    "import pandas as pd\n",
    "import numpy as np\n",
    "import calendar\n",
    "import matplotlib.pyplot as plt\n",
    "import warnings\n",
    "warnings.filterwarnings(\"ignore\")\n",
    "from statsmodels.tsa.stattools import adfuller"
   ],
   "outputs": [],
   "metadata": {}
  },
  {
   "cell_type": "markdown",
   "source": [
    "**Cases and Deaths Data**"
   ],
   "metadata": {}
  },
  {
   "cell_type": "code",
   "execution_count": null,
   "source": [
    "data = pd.read_csv(\"owid-covid-data_Ireland.csv\", index_col = \"date\")\n",
    "data = data[(data.index >= \"2020-03-01\") & (data.index <= \"2021-11-01\")]\n",
    "ireland_data = data[data['location'] == \"Ireland\"]\n",
    "ireland_data.index = pd.DatetimeIndex(ireland_data.index)\n",
    "ireland_data['delta_cases_per_capita'] = ireland_data['total_cases'].divide(ireland_data['population']).diff().fillna(0)\n",
    "ireland_data['delta_deaths_per_capita'] = ireland_data['total_deaths'].divide(ireland_data['population']).diff().fillna(0)"
   ],
   "outputs": [],
   "metadata": {}
  },
  {
   "cell_type": "code",
   "execution_count": null,
   "source": [
    "ireland_data['new_cases'].iloc[-100:].plot()"
   ],
   "outputs": [],
   "metadata": {}
  },
  {
   "cell_type": "code",
   "execution_count": null,
   "source": [
    "ireland_data['total_vaccinations'].fillna(method = 'bfill', inplace = True)\n",
    "ireland_data['people_vaccinated'].fillna(method = 'bfill', inplace = True)"
   ],
   "outputs": [],
   "metadata": {}
  },
  {
   "cell_type": "code",
   "execution_count": null,
   "source": [
    "ireland_data['total_vaccinations_per_capita'] = ireland_data['total_vaccinations'].divide(ireland_data['population'])\n",
    "ireland_data['people_vaccinated_per_capita'] = ireland_data['people_vaccinated'].divide(ireland_data['population'])"
   ],
   "outputs": [],
   "metadata": {}
  },
  {
   "cell_type": "code",
   "execution_count": null,
   "source": [
    "ireland_data['new_people_vaccinated'] = ireland_data['total_vaccinations_per_capita'].diff().fillna(0)"
   ],
   "outputs": [],
   "metadata": {}
  },
  {
   "cell_type": "code",
   "execution_count": null,
   "source": [
    "ireland_data['new_vaccinations']"
   ],
   "outputs": [],
   "metadata": {}
  },
  {
   "cell_type": "code",
   "execution_count": null,
   "source": [
    "ireland_data['new_vaccinations_per_capita'] = ireland_data['new_vaccinations'].divide(ireland_data['population'])\n",
    "ireland_data['new_people_vaccinated_per_capita'] = ireland_data['new_people_vaccinated'].divide(ireland_data['population'])"
   ],
   "outputs": [],
   "metadata": {}
  },
  {
   "cell_type": "code",
   "execution_count": null,
   "source": [
    "ireland_data['new_vaccinations_per_capita'].fillna(method = 'bfill', inplace = True)\n",
    "ireland_data['new_people_vaccinated_per_capita'].fillna(method = 'bfill', inplace = True)"
   ],
   "outputs": [],
   "metadata": {}
  },
  {
   "cell_type": "code",
   "execution_count": null,
   "source": [
    "ireland_data['new_vaccinations_per_capita'].fillna(0, inplace = True)\n",
    "ireland_data['new_people_vaccinated_per_capita'].fillna(0, inplace = True)"
   ],
   "outputs": [],
   "metadata": {}
  },
  {
   "cell_type": "code",
   "execution_count": null,
   "source": [
    "ireland_data['log_new_vaccinations_per_capita'] = np.log(ireland_data['total_vaccinations_per_capita']).diff().fillna(0)\n",
    "ireland_data['log_new_people_vaccinated_per_capita'] = np.log(ireland_data['people_vaccinated_per_capita']).diff().fillna(0)"
   ],
   "outputs": [],
   "metadata": {}
  },
  {
   "cell_type": "code",
   "execution_count": null,
   "source": [
    "total_vax = round(adfuller(ireland_data['total_vaccinations_per_capita'])[0],3)\n",
    "total_ppl_vaxxed = round(adfuller(ireland_data['people_vaccinated_per_capita'])[0],3)\n",
    "\n",
    "new_vax_t = round(adfuller(ireland_data['new_vaccinations_per_capita'])[0],4)\n",
    "new_ppl_vaxxed_t = round(adfuller(ireland_data['new_people_vaccinated_per_capita'])[0],3)\n",
    "\n",
    "log_new_vax_t = round(adfuller(ireland_data['log_new_vaccinations_per_capita'].fillna(0))[0],4)\n",
    "log_new_ppl_vaxxed_t = round(adfuller(ireland_data['log_new_people_vaccinated_per_capita'].fillna(0))[0],3)"
   ],
   "outputs": [],
   "metadata": {}
  },
  {
   "cell_type": "code",
   "execution_count": null,
   "source": [
    "from statsmodels.tsa.stattools import adfuller\n",
    "\n",
    "fig, ax = plt.subplots(nrows = 3, gridspec_kw={\"wspace\": 0.2, 'hspace': 0}, sharex = True)\n",
    "ireland_data['total_vaccinations_per_capita'].loc['2021-01-18':].plot(ax = ax[0],label = f\"Total Vaccinations. ADF Test Statistic: {total_vax}\", color = 'purple')\n",
    "ireland_data['people_vaccinated_per_capita'].loc['2021-01-18':].loc['2021-01-18':].plot(ax = ax[0],label = f\"Total People Vaccinated. ADF Test Statistic: {total_ppl_vaxxed}\", color = 'darkcyan')\n",
    "ax[0].legend(fontsize = 12, loc = 2)\n",
    "ax[0].set_title(\"Raw vaccination ratios, first-differences and log-differences\", fontsize = 15)\n",
    "# ax[1].set_title(\"Differenced vaccination ratios: still non-stationary\", fontsize = 10)\n",
    "from matplotlib.offsetbox import AnchoredText\n",
    "\n",
    "\n",
    "fig.set_size_inches(20, 18)\n",
    "ireland_data['new_vaccinations_per_capita'].loc['2021-01-18':].plot(ax = ax[1],label = f\"New Vaccinations. ADF Test Statistic: {new_vax_t}\", color = 'purple')\n",
    "ireland_data['people_vaccinated_per_capita'].loc['2021-01-18':].diff().fillna(0).plot(ax = ax[1],label = f\"New People Vaccinated. ADF Test Statistic: {new_ppl_vaxxed_t}\", color = 'darkcyan')\n",
    "ax[1].legend(fontsize = 13, loc = 2)\n",
    "ax[0].set_ylabel(\"Total\", fontsize = 14)\n",
    "ax[1].set_ylabel(\"New (Difference)\", fontsize = 14)\n",
    "ax[0].set_xlabel(\"Date\", fontsize = 13)\n",
    "ax[1].set_xlabel(\"Date\", fontsize = 13)\n",
    "\n",
    "ireland_data['log_new_vaccinations_per_capita'].loc['2021-01-18':].plot(ax = ax[2], label = f\"Log First Difference People Vaccinated. ADF Test Statistic: {log_new_vax_t}***\", color = 'purple')\n",
    "secondary_ax = ax[2].twinx()\n",
    "ireland_data['log_new_people_vaccinated_per_capita'].loc['2021-01-18':].plot(ax = secondary_ax, label = f\"Log First Difference People Vaccinated. ADF Test Statistic: {log_new_ppl_vaxxed_t}***\", color = 'darkcyan')\n",
    "ax[0].grid(linestyle = '--')\n",
    "ax[1].grid(linestyle = '--')\n",
    "ax[2].grid(linestyle = '--')\n",
    "ax[2].legend(fontsize = 13, loc = 2)\n",
    "secondary_ax.set_ylabel(\"Log First Difference People Vaccinated\", fontsize = 14)\n",
    "\n",
    "secondary_ax.legend(fontsize =12, loc = 1)\n",
    "ax[2].set_ylabel(\"Log First Difference New Vaccinations\", fontsize = 14)"
   ],
   "outputs": [],
   "metadata": {}
  },
  {
   "cell_type": "code",
   "execution_count": null,
   "source": [
    "fig, ax = plt.subplots(ncols = 1)\n",
    "\n",
    "ax.set_ylabel(r\"$\\Delta$ cases per capita\", fontsize = 14)\n",
    "ireland_data['trend'] = np.arange(0, len(ireland_data))\n",
    "(ireland_data['trend']*ireland_data['delta_cases_per_capita'].mean()/300).plot(ax = ax, color = 'lightcoral', label = 'Plausible trend')\n",
    "ireland_data['delta_cases_per_capita'].plot(ax = ax, color = 'mediumseagreen', label = r'$\\Delta C_t$')\n",
    "\n",
    "ax.legend(loc = 2, fontsize = 14)\n",
    "fig.set_size_inches(17, 6)\n",
    "ax.set_xlabel(\"Date\", fontsize = 14)\n",
    "ax.set_title(\"Plausible overall trend in new cases\")\n",
    "ax.grid(linestyle = '--', alpha = 0.5)"
   ],
   "outputs": [],
   "metadata": {}
  },
  {
   "cell_type": "code",
   "execution_count": null,
   "source": [
    "ireland_data[ireland_data['delta_cases_per_capita']< 0]"
   ],
   "outputs": [],
   "metadata": {}
  },
  {
   "cell_type": "code",
   "execution_count": null,
   "source": [
    "ireland_data.loc['2021-06-30', 'delta_cases_per_capita'] = ireland_data.loc[ '2021-06-29', 'delta_cases_per_capita']\n",
    "ireland_data.loc['2021-09-02', 'delta_cases_per_capita'] = ireland_data.loc[ '2021-09-01', 'delta_cases_per_capita']\n",
    "ireland_data.loc['2021-09-15', 'delta_cases_per_capita'] = ireland_data.loc[ '2021-09-14', 'delta_cases_per_capita']\n",
    "ireland_data.loc['2021-09-16', 'delta_cases_per_capita'] = ireland_data.loc['2021-09-15', 'delta_cases_per_capita']"
   ],
   "outputs": [],
   "metadata": {}
  },
  {
   "cell_type": "markdown",
   "source": [
    "**What will be our final Dataset**"
   ],
   "metadata": {}
  },
  {
   "cell_type": "code",
   "execution_count": null,
   "source": [
    "cases_dataset = pd.DataFrame(ireland_data['delta_cases_per_capita'])\n",
    "# cases_dataset[f'delta_cases_per_capita.l1'] = \n",
    "# cases_dataset[f'delta_cases_per_capita.l1'] = cases_dataset['delta_cases_per_capita'].shift(1).fillna(0)\n",
    "cases_dataset['log_new_vaccines_per_capita'] = np.log(ireland_data['total_vaccinations']).diff().fillna(0).divide(ireland_data['population'])\n",
    "cases_dataset['log_new_people_vaccinated_per_capita'] = np.log(ireland_data['people_vaccinated']).diff().fillna(0).divide(ireland_data['population'])"
   ],
   "outputs": [],
   "metadata": {}
  },
  {
   "cell_type": "markdown",
   "source": [
    "**Country by Country Data**"
   ],
   "metadata": {}
  },
  {
   "cell_type": "code",
   "execution_count": null,
   "source": [
    "columns_of_interest = ['delta_cases_per_capita', 'delta_deaths_per_capita']"
   ],
   "outputs": [],
   "metadata": {}
  },
  {
   "cell_type": "code",
   "execution_count": null,
   "source": [
    "def process_data(country, columns_of_interest):\n",
    "    data = pd.read_csv(f\"owid-covid-data_{country}.csv\", index_col = \"date\")\n",
    "    data = data[(data.index >= \"2020-03-01\") & (data.index <= \"2022-03-01\")]\n",
    "    data.index = pd.DatetimeIndex(data.index)\n",
    "    country_data = data[data['location'] == country]\n",
    "    country_data['cases_per_capita'] = country_data['total_cases']/country_data['population']\n",
    "    country_data['delta_cases_per_capita'] = country_data['cases_per_capita'].diff()\n",
    "    country_data['deaths_per_capita'] = country_data['total_deaths']/country_data['population']\n",
    "    country_data['delta_deaths_per_capita'] = country_data['deaths_per_capita'].diff()\n",
    "    country_data = country_data.loc[:, columns_of_interest] \n",
    "    for column in country_data.columns:\n",
    "        country_data.rename(columns = {column: column + f'_{country}'}, inplace = True)\n",
    "    return country_data"
   ],
   "outputs": [],
   "metadata": {}
  },
  {
   "cell_type": "code",
   "execution_count": null,
   "source": [
    "UK_data = process_data(\"United Kingdom\", columns_of_interest)\n",
    "Germany_data = process_data(\"Germany\", columns_of_interest)\n",
    "France_data = process_data(\"France\", columns_of_interest)\n",
    "country_data = [UK_data, Germany_data, France_data]"
   ],
   "outputs": [],
   "metadata": {}
  },
  {
   "cell_type": "code",
   "execution_count": null,
   "source": [
    "for country in country_data:\n",
    "    for column in country.columns:\n",
    "        cases_dataset[column] = country[column]"
   ],
   "outputs": [],
   "metadata": {}
  },
  {
   "cell_type": "markdown",
   "source": [
    "**Non-Pharmaceutical Intervention Data**"
   ],
   "metadata": {}
  },
  {
   "cell_type": "code",
   "execution_count": null,
   "source": [
    "policy_data = pd.read_csv(\"OxCGRT_latest_responses.csv\")"
   ],
   "outputs": [],
   "metadata": {}
  },
  {
   "cell_type": "code",
   "execution_count": null,
   "source": [
    "Irish_policies = policy_data[policy_data['CountryName'] == \"Ireland\"]\n",
    "Irish_policies['StartDate'] = pd.to_datetime(Irish_policies['StartDate'].astype(str), format='%Y%m%d')\n",
    "Irish_policies['EndDate'] = pd.to_datetime(Irish_policies['EndDate'].astype(str), format='%Y%m%d')"
   ],
   "outputs": [],
   "metadata": {}
  },
  {
   "cell_type": "code",
   "execution_count": null,
   "source": [
    "closure_notices = [i for i in Irish_policies['PolicyType'].unique() if str(i)[0] == \"C\"]"
   ],
   "outputs": [],
   "metadata": {}
  },
  {
   "cell_type": "code",
   "execution_count": null,
   "source": [
    "workplace_closures = Irish_policies[Irish_policies['PolicyType'].str.contains(\"C2\")]"
   ],
   "outputs": [],
   "metadata": {}
  },
  {
   "cell_type": "code",
   "execution_count": null,
   "source": [
    "cases_dataset['full_lockdown'] = 0"
   ],
   "outputs": [],
   "metadata": {}
  },
  {
   "cell_type": "code",
   "execution_count": null,
   "source": [
    "for i in workplace_closures[workplace_closures['PolicyValue'] ==3].index:\n",
    "    start_date_closure = workplace_closures.loc[i, \"StartDate\"]\n",
    "    end_date_closure = workplace_closures.loc[i, \"EndDate\"]\n",
    "\n",
    "    date_range = pd.date_range(start_date_closure, end_date_closure)\n",
    "\n",
    "    for j in date_range:\n",
    "        cases_dataset.loc[j, \"full_lockdown\"] = 1\n"
   ],
   "outputs": [],
   "metadata": {}
  },
  {
   "cell_type": "code",
   "execution_count": null,
   "source": [
    "cases_dataset['full_lockdown.l30'] = cases_dataset['full_lockdown'].shift(30).fillna(0)"
   ],
   "outputs": [],
   "metadata": {}
  },
  {
   "cell_type": "code",
   "execution_count": null,
   "source": [
    "cases_dataset['full_lockdown.l45'] = cases_dataset['full_lockdown'].shift(45).fillna(0)"
   ],
   "outputs": [],
   "metadata": {}
  },
  {
   "cell_type": "markdown",
   "source": [
    "**Weather Data**"
   ],
   "metadata": {}
  },
  {
   "cell_type": "code",
   "execution_count": null,
   "source": [
    "weather = pd.read_csv(\"Weather.csv\")"
   ],
   "outputs": [],
   "metadata": {}
  },
  {
   "cell_type": "code",
   "execution_count": null,
   "source": [
    "weather['date'] = pd.DatetimeIndex(weather['date'] )"
   ],
   "outputs": [],
   "metadata": {}
  },
  {
   "cell_type": "code",
   "execution_count": null,
   "source": [
    "weather.set_index(\"date\", inplace=True)"
   ],
   "outputs": [],
   "metadata": {}
  },
  {
   "cell_type": "code",
   "execution_count": null,
   "source": [
    "weather"
   ],
   "outputs": [],
   "metadata": {}
  },
  {
   "cell_type": "code",
   "execution_count": null,
   "source": [
    "weather = weather[(weather.index >= \"2020-03-01\") & (weather.index <= \"2021-11-01\")]"
   ],
   "outputs": [],
   "metadata": {}
  },
  {
   "cell_type": "code",
   "execution_count": null,
   "source": [
    "weather"
   ],
   "outputs": [],
   "metadata": {}
  },
  {
   "cell_type": "code",
   "execution_count": null,
   "source": [
    "cases_dataset = pd.concat([cases_dataset, weather], axis = 1)"
   ],
   "outputs": [],
   "metadata": {}
  },
  {
   "cell_type": "markdown",
   "source": [
    "**Day of the Week and Season Encoding**"
   ],
   "metadata": {}
  },
  {
   "cell_type": "code",
   "execution_count": null,
   "source": [
    "def integer_encoding(df, series_name):\n",
    "\n",
    "    # Find unique categorical labels\n",
    "    unique_labels = df[series_name].unique()\n",
    "\n",
    "    # Translate str label into simple numerical label e.g. 0, 1, 2, 3, ..., n\n",
    "    # where n is the number of labels\n",
    "    encoding_dict = {unique_labels[i]: i for i in range(len(unique_labels))}\n",
    "\n",
    "    # Replace the str labels with the numerical ones\n",
    "    df = df.replace({series_name: encoding_dict})\n",
    "    return df"
   ],
   "outputs": [],
   "metadata": {}
  },
  {
   "cell_type": "code",
   "execution_count": null,
   "source": [
    "day_of_week = [calendar.day_name[pd.to_datetime(date).weekday()] for date in ireland_data.index]\n",
    "cases_dataset['day_of_the_week'] = day_of_week\n",
    "cases_dataset = integer_encoding(cases_dataset, 'day_of_the_week')"
   ],
   "outputs": [],
   "metadata": {}
  },
  {
   "cell_type": "code",
   "execution_count": null,
   "source": [
    "def season_of_date(date):\n",
    "    year = str(date.year)\n",
    "    seasons = {'spring': pd.date_range(start='21/03/'+year, end='20/06/'+year),\n",
    "               'summer': pd.date_range(start='21/06/'+year, end='22/09/'+year),\n",
    "               'autumn': pd.date_range(start='23/09/'+year, end='20/12/'+year)}\n",
    "    if date in seasons['spring']:\n",
    "        return 'spring'\n",
    "    if date in seasons['summer']:\n",
    "        return 'summer'\n",
    "    if date in seasons['autumn']:\n",
    "        return 'autumn'\n",
    "    else:\n",
    "        return 'winter'"
   ],
   "outputs": [],
   "metadata": {}
  },
  {
   "cell_type": "code",
   "execution_count": null,
   "source": [
    "# Assuming df has a date column of type `datetime`\n",
    "cases_dataset['season'] = cases_dataset.index.map(season_of_date)"
   ],
   "outputs": [],
   "metadata": {}
  },
  {
   "cell_type": "code",
   "execution_count": null,
   "source": [
    "cases_dataset = integer_encoding(cases_dataset, \"season\")"
   ],
   "outputs": [],
   "metadata": {}
  },
  {
   "cell_type": "code",
   "execution_count": null,
   "source": [
    "cases_dataset.fillna(0, inplace = True)"
   ],
   "outputs": [],
   "metadata": {}
  },
  {
   "cell_type": "code",
   "execution_count": null,
   "source": [
    "cases_dataset['trend'] = np.arange(1, len(cases_dataset)+1 )"
   ],
   "outputs": [],
   "metadata": {}
  },
  {
   "cell_type": "code",
   "execution_count": null,
   "source": [
    "original_cases = cases_dataset.copy()['delta_cases_per_capita']"
   ],
   "outputs": [],
   "metadata": {}
  },
  {
   "cell_type": "code",
   "execution_count": null,
   "source": [
    "cases_dataset.to_csv(\"Combined_Dataset.csv\")"
   ],
   "outputs": [],
   "metadata": {}
  }
 ],
 "metadata": {
  "orig_nbformat": 4,
  "language_info": {
   "name": "python",
   "version": "3.8.8",
   "mimetype": "text/x-python",
   "codemirror_mode": {
    "name": "ipython",
    "version": 3
   },
   "pygments_lexer": "ipython3",
   "nbconvert_exporter": "python",
   "file_extension": ".py"
  },
  "kernelspec": {
   "name": "python3",
   "display_name": "Python 3.8.8 64-bit ('base': conda)"
  },
  "interpreter": {
   "hash": "4e7a58de4b7e505b0e82f0adcc21bb9621f61c2c1c0bdf66b0394a18a0c298a7"
  }
 },
 "nbformat": 4,
 "nbformat_minor": 2
}