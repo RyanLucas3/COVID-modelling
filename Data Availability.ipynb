{
 "cells": [
  {
   "cell_type": "code",
   "execution_count": 25,
   "source": [
    "import pandas as pd\n",
    "import numpy as np\n",
    "import statsmodels.formula.api as sm"
   ],
   "outputs": [],
   "metadata": {}
  },
  {
   "cell_type": "code",
   "execution_count": 7,
   "source": [
    "counties = [\"Carlow\", \"Cavan\", \"Clare\", \"Cork\", \"Donegal\", \"Dublin\", \"Galway\", \"Kerry\", \"Kildare\", \"Kilkenny\", \"Leitrim\", \"Limerick\", \"Laois\",\"Mayo\", \"Meath\", \"Monaghan\", \"Offaly\", \"Roscommon\", \"Sligo\", \"Tipperary\", \"Waterford\", \"Westmeath\", \"Wexford\", \"Wicklow\"]"
   ],
   "outputs": [],
   "metadata": {}
  },
  {
   "cell_type": "code",
   "execution_count": 8,
   "source": [
    "datasets = {}"
   ],
   "outputs": [],
   "metadata": {}
  },
  {
   "cell_type": "code",
   "execution_count": 80,
   "source": [
    "def get_variables(county):\n",
    "\n",
    "    weather = pd.read_csv(f\"Weather_data/{county}_weather.csv\", index_col = \"date\")\n",
    "    weather.index = pd.DatetimeIndex(weather.index)\n",
    "    weather = weather[(weather.index >= \"2020-03-01\") & (weather.index < \"2021-12-01\")]\n",
    "    \n",
    "    weather[weather == ' '] = np.nan\n",
    "\n",
    "    return weather.columns"
   ],
   "outputs": [],
   "metadata": {}
  },
  {
   "cell_type": "code",
   "execution_count": 100,
   "source": [
    "counties_with_max_tp = []\n",
    "counties_with_min_tp = []\n",
    "counties_with_humidity = []\n",
    "counties_with_rain = []\n",
    "\n",
    "for county in counties:\n",
    "\n",
    "    columns = get_variables(county)\n",
    "\n",
    "    if \"maxtp\" or 'maxt' in columns:\n",
    "        counties_with_max_tp.append(county)\n",
    "    \n",
    "    if \"mintp\" or 'mint' in columns:\n",
    "        counties_with_min_tp.append(county)\n",
    "    \n",
    "    if \"evap\" in columns:\n",
    "        counties_with_humidity.append(county)\n",
    "    \n",
    "    if \"rain\" in columns:\n",
    "        counties_with_rain.append(county)"
   ],
   "outputs": [],
   "metadata": {}
  }
 ],
 "metadata": {
  "orig_nbformat": 4,
  "language_info": {
   "name": "python",
   "version": "3.8.8",
   "mimetype": "text/x-python",
   "codemirror_mode": {
    "name": "ipython",
    "version": 3
   },
   "pygments_lexer": "ipython3",
   "nbconvert_exporter": "python",
   "file_extension": ".py"
  },
  "kernelspec": {
   "name": "python3",
   "display_name": "Python 3.8.8 64-bit ('base': conda)"
  },
  "interpreter": {
   "hash": "4e7a58de4b7e505b0e82f0adcc21bb9621f61c2c1c0bdf66b0394a18a0c298a7"
  }
 },
 "nbformat": 4,
 "nbformat_minor": 2
}