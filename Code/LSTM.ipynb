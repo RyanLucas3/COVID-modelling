{
 "cells": [
  {
   "cell_type": "code",
   "execution_count": 10,
   "source": [
    "# !python -m pip install numpy==1.22.3"
   ],
   "outputs": [
    {
     "output_type": "stream",
     "name": "stdout",
     "text": [
      "Requirement already satisfied: numpy==1.22.3 in /Users/ryanlucas/opt/anaconda3/lib/python3.8/site-packages (1.22.3)\n",
      "\u001b[33mWARNING: Error parsing requirements for slicer: [Errno 2] No such file or directory: '/Users/ryanlucas/opt/anaconda3/lib/python3.8/site-packages/slicer-0.0.7.dist-info/METADATA'\u001b[0m\n"
     ]
    }
   ],
   "metadata": {}
  },
  {
   "cell_type": "code",
   "execution_count": 12,
   "source": [
    "import pandas as pd\n",
    "import numpy as np\n",
    "import statsmodels.formula.api as sm\n",
    "from itertools import product\n",
    "import warnings\n",
    "import matplotlib.pyplot as plt\n",
    "warnings.filterwarnings(\"ignore\")"
   ],
   "outputs": [
    {
     "output_type": "error",
     "ename": "ModuleNotFoundError",
     "evalue": "No module named 'pandas'",
     "traceback": [
      "\u001b[0;31m---------------------------------------------------------------------------\u001b[0m",
      "\u001b[0;31mModuleNotFoundError\u001b[0m                       Traceback (most recent call last)",
      "\u001b[0;32m<ipython-input-12-fb3aecf11456>\u001b[0m in \u001b[0;36m<module>\u001b[0;34m\u001b[0m\n\u001b[0;32m----> 1\u001b[0;31m \u001b[0;32mimport\u001b[0m \u001b[0mpandas\u001b[0m \u001b[0;32mas\u001b[0m \u001b[0mpd\u001b[0m\u001b[0;34m\u001b[0m\u001b[0;34m\u001b[0m\u001b[0m\n\u001b[0m\u001b[1;32m      2\u001b[0m \u001b[0;32mimport\u001b[0m \u001b[0mnumpy\u001b[0m \u001b[0;32mas\u001b[0m \u001b[0mnp\u001b[0m\u001b[0;34m\u001b[0m\u001b[0;34m\u001b[0m\u001b[0m\n\u001b[1;32m      3\u001b[0m \u001b[0;32mimport\u001b[0m \u001b[0mstatsmodels\u001b[0m\u001b[0;34m.\u001b[0m\u001b[0mformula\u001b[0m\u001b[0;34m.\u001b[0m\u001b[0mapi\u001b[0m \u001b[0;32mas\u001b[0m \u001b[0msm\u001b[0m\u001b[0;34m\u001b[0m\u001b[0;34m\u001b[0m\u001b[0m\n\u001b[1;32m      4\u001b[0m \u001b[0;32mfrom\u001b[0m \u001b[0mitertools\u001b[0m \u001b[0;32mimport\u001b[0m \u001b[0mproduct\u001b[0m\u001b[0;34m\u001b[0m\u001b[0;34m\u001b[0m\u001b[0m\n\u001b[1;32m      5\u001b[0m \u001b[0;32mimport\u001b[0m \u001b[0mwarnings\u001b[0m\u001b[0;34m\u001b[0m\u001b[0;34m\u001b[0m\u001b[0m\n",
      "\u001b[0;31mModuleNotFoundError\u001b[0m: No module named 'pandas'"
     ]
    }
   ],
   "metadata": {}
  },
  {
   "cell_type": "code",
   "execution_count": null,
   "source": [
    "combined = pd.read_csv(\"Combined_Dataset.csv\", index_col = \"date\")"
   ],
   "outputs": [],
   "metadata": {}
  },
  {
   "cell_type": "code",
   "execution_count": null,
   "source": [
    "import keras\n",
    "from keras.models import Sequential\n",
    "from keras.layers import Dense\n",
    "from keras.layers import LSTM\n",
    "from keras.layers import Dropout\n",
    "from keras.layers import *\n",
    "from keras.callbacks import EarlyStopping\n",
    "from sklearn.preprocessing import MinMaxScaler"
   ],
   "outputs": [],
   "metadata": {}
  },
  {
   "cell_type": "code",
   "execution_count": null,
   "source": [
    "y_var = 'delta_cases_per_capita'"
   ],
   "outputs": [],
   "metadata": {}
  },
  {
   "cell_type": "code",
   "execution_count": null,
   "source": [
    "x_scaler = MinMaxScaler()\n",
    "y_scaler = MinMaxScaler()"
   ],
   "outputs": [],
   "metadata": {}
  },
  {
   "cell_type": "code",
   "execution_count": null,
   "source": [
    "# Initialise training and test data\n",
    "train_data = combined.iloc[:int(2/3*len(combined))]\n",
    "test_data = combined.iloc[int(2/3*len(combined)):]"
   ],
   "outputs": [],
   "metadata": {}
  },
  {
   "cell_type": "code",
   "execution_count": null,
   "source": [
    "train_data.columns"
   ],
   "outputs": [
    {
     "output_type": "execute_result",
     "data": {
      "text/plain": [
       "Index(['delta_deaths_per_capita', 'delta_cases_per_capita',\n",
       "       'delta_deaths_per_capita.l1', 'delta_cases_per_capita.l1',\n",
       "       'log_new_vaccines_per_capita', 'log_new_people_vaccinated_per_capita',\n",
       "       'delta_cases_per_capita_United Kingdom',\n",
       "       'delta_deaths_per_capita_United Kingdom',\n",
       "       'delta_cases_per_capita_Germany', 'delta_deaths_per_capita_Germany',\n",
       "       'delta_cases_per_capita_France', 'delta_deaths_per_capita_France',\n",
       "       'full_lockdown', 'full_lockdown.l30', 'full_lockdown.l45', 'max_tp',\n",
       "       'min_tp', 'rain', 'humidity', 'day_of_the_week', 'season', 'trend'],\n",
       "      dtype='object')"
      ]
     },
     "metadata": {},
     "execution_count": 33
    }
   ],
   "metadata": {}
  },
  {
   "cell_type": "code",
   "execution_count": null,
   "source": [
    "x_columns_to_scale = np.arange(4, 12) # from log_new_vaccines_per_capita to delta_deaths_per_capita_France"
   ],
   "outputs": [],
   "metadata": {}
  },
  {
   "cell_type": "code",
   "execution_count": null,
   "source": [
    "x_columns_not_to_scale = ['delta_cases_per_capita.l1', 'full_lockdown', 'full_lockdown.l30', 'full_lockdown.l30', 'max_tp', 'min_tp', 'rain', 'humidity', 'day_of_the_week', 'season', 'trend']"
   ],
   "outputs": [],
   "metadata": {}
  },
  {
   "cell_type": "code",
   "execution_count": null,
   "source": [
    "scaled_x_train = x_scaler.fit_transform(train_data.iloc[:, x_columns_to_scale])\n",
    "scaled_x_train = pd.DataFrame(scaled_x_train, columns = train_data.columns[x_columns_to_scale])"
   ],
   "outputs": [],
   "metadata": {}
  },
  {
   "cell_type": "code",
   "execution_count": null,
   "source": [
    "scaled_y_train = y_scaler.fit_transform(np.array(train_data.iloc[:,train_data.columns.get_loc(y_var)]).reshape(-1,1))\n",
    "scaled_y_train = pd.DataFrame(scaled_y_train, columns = ['delta_cases_per_capita'])\n",
    "\n",
    "x_train = scaled_x_train.values\n",
    "y_train = scaled_y_train.values"
   ],
   "outputs": [],
   "metadata": {}
  },
  {
   "cell_type": "markdown",
   "source": [
    "**Establish Data in Tensors (batch size = 30)**"
   ],
   "metadata": {}
  },
  {
   "cell_type": "code",
   "execution_count": null,
   "source": [
    "tensor_size = 30\n",
    "dim = 8"
   ],
   "outputs": [],
   "metadata": {}
  },
  {
   "cell_type": "code",
   "execution_count": null,
   "source": [
    "final_x_train = []\n",
    "final_y_train = []\n",
    "\n",
    "for i in range(tensor_size, len(y_train)):\n",
    "    final_x_train.append(x_train[i-tensor_size:i])\n",
    "    final_y_train.append(y_train[i])\n",
    "\n",
    "final_x_train = np.array(final_x_train)\n",
    "final_y_train = np.array(final_y_train)\n",
    "\n",
    "final_x_train = np.reshape(final_x_train, (final_x_train.shape[0], final_x_train.shape[1], dim))\n",
    "\n",
    "# Could do cross-validation here."
   ],
   "outputs": [],
   "metadata": {}
  },
  {
   "cell_type": "code",
   "execution_count": null,
   "source": [
    "model = Sequential()\n",
    "# Adding in the LSTM Layers including dropout layers for regularisation\n",
    "model.add(LSTM(units = 1, return_sequences = True, input_shape = (final_x_train.shape[1], dim)))\n",
    "model.add(Dropout(0.2))\n",
    "\n",
    "model.add(LSTM(units = 1, return_sequences = True, input_shape = (final_x_train.shape[1], dim)))\n",
    "model.add(Dropout(0.2))\n",
    "\n",
    "# Adding the output layer\n",
    "model.add(Dense(units = 1))\n",
    "\n",
    "# Compiling the RNN\n",
    "model.compile(optimizer = 'adam', loss = 'mean_squared_error')\n",
    "\n",
    "# Fitting the RNN to the Training set\n",
    "model.fit(final_x_train, final_y_train, epochs = 100, batch_size = 32)"
   ],
   "outputs": [
    {
     "output_type": "stream",
     "name": "stdout",
     "text": [
      "Epoch 1/100\n",
      "12/12 [==============================] - 4s 22ms/step - loss: 0.0563\n",
      "Epoch 2/100\n",
      "12/12 [==============================] - 0s 20ms/step - loss: 0.0354\n",
      "Epoch 3/100\n",
      "12/12 [==============================] - 0s 20ms/step - loss: 0.0240\n",
      "Epoch 4/100\n",
      "12/12 [==============================] - 0s 31ms/step - loss: 0.0184\n",
      "Epoch 5/100\n",
      "12/12 [==============================] - 0s 22ms/step - loss: 0.0165\n",
      "Epoch 6/100\n",
      "12/12 [==============================] - 0s 19ms/step - loss: 0.0158\n",
      "Epoch 7/100\n",
      "12/12 [==============================] - 0s 18ms/step - loss: 0.0153\n",
      "Epoch 8/100\n",
      "12/12 [==============================] - 0s 18ms/step - loss: 0.0154\n",
      "Epoch 9/100\n",
      "12/12 [==============================] - 0s 19ms/step - loss: 0.0150\n",
      "Epoch 10/100\n",
      "12/12 [==============================] - 0s 19ms/step - loss: 0.0149\n",
      "Epoch 11/100\n",
      "12/12 [==============================] - 0s 21ms/step - loss: 0.0146\n",
      "Epoch 12/100\n",
      "12/12 [==============================] - 0s 27ms/step - loss: 0.0145\n",
      "Epoch 13/100\n",
      "12/12 [==============================] - 0s 24ms/step - loss: 0.0147\n",
      "Epoch 14/100\n",
      "12/12 [==============================] - 0s 21ms/step - loss: 0.0146\n",
      "Epoch 15/100\n",
      "12/12 [==============================] - 0s 20ms/step - loss: 0.0146\n",
      "Epoch 16/100\n",
      "12/12 [==============================] - 0s 20ms/step - loss: 0.0143\n",
      "Epoch 17/100\n",
      "12/12 [==============================] - 0s 20ms/step - loss: 0.0146\n",
      "Epoch 18/100\n",
      "12/12 [==============================] - 0s 20ms/step - loss: 0.0141\n",
      "Epoch 19/100\n",
      "12/12 [==============================] - 0s 19ms/step - loss: 0.0142\n",
      "Epoch 20/100\n",
      "12/12 [==============================] - 0s 18ms/step - loss: 0.0142\n",
      "Epoch 21/100\n",
      "12/12 [==============================] - 0s 18ms/step - loss: 0.0143\n",
      "Epoch 22/100\n",
      "12/12 [==============================] - 0s 23ms/step - loss: 0.0143\n",
      "Epoch 23/100\n",
      "12/12 [==============================] - 0s 25ms/step - loss: 0.0140\n",
      "Epoch 24/100\n",
      "12/12 [==============================] - 0s 22ms/step - loss: 0.0142\n",
      "Epoch 25/100\n",
      "12/12 [==============================] - 0s 19ms/step - loss: 0.0138\n",
      "Epoch 26/100\n",
      "12/12 [==============================] - 0s 18ms/step - loss: 0.0140\n",
      "Epoch 27/100\n",
      "12/12 [==============================] - 0s 17ms/step - loss: 0.0139\n",
      "Epoch 28/100\n",
      "12/12 [==============================] - 0s 18ms/step - loss: 0.0138\n",
      "Epoch 29/100\n",
      "12/12 [==============================] - 0s 17ms/step - loss: 0.0136\n",
      "Epoch 30/100\n",
      "12/12 [==============================] - 0s 19ms/step - loss: 0.0138\n",
      "Epoch 31/100\n",
      "12/12 [==============================] - 0s 19ms/step - loss: 0.0138\n",
      "Epoch 32/100\n",
      "12/12 [==============================] - 0s 22ms/step - loss: 0.0136\n",
      "Epoch 33/100\n",
      "12/12 [==============================] - 0s 23ms/step - loss: 0.0136\n",
      "Epoch 34/100\n",
      "12/12 [==============================] - 0s 21ms/step - loss: 0.0135\n",
      "Epoch 35/100\n",
      "12/12 [==============================] - 0s 18ms/step - loss: 0.0135\n",
      "Epoch 36/100\n",
      "12/12 [==============================] - 0s 18ms/step - loss: 0.0136\n",
      "Epoch 37/100\n",
      "12/12 [==============================] - 0s 17ms/step - loss: 0.0135\n",
      "Epoch 38/100\n",
      "12/12 [==============================] - 0s 19ms/step - loss: 0.0133\n",
      "Epoch 39/100\n",
      "12/12 [==============================] - 0s 20ms/step - loss: 0.0133\n",
      "Epoch 40/100\n",
      "12/12 [==============================] - 0s 19ms/step - loss: 0.0133\n",
      "Epoch 41/100\n",
      "12/12 [==============================] - 0s 22ms/step - loss: 0.0133\n",
      "Epoch 42/100\n",
      "12/12 [==============================] - 0s 20ms/step - loss: 0.0131\n",
      "Epoch 43/100\n",
      "12/12 [==============================] - 0s 20ms/step - loss: 0.0130\n",
      "Epoch 44/100\n",
      "12/12 [==============================] - 0s 20ms/step - loss: 0.0128\n",
      "Epoch 45/100\n",
      "12/12 [==============================] - 0s 23ms/step - loss: 0.0130\n",
      "Epoch 46/100\n",
      "12/12 [==============================] - 0s 25ms/step - loss: 0.0128\n",
      "Epoch 47/100\n",
      "12/12 [==============================] - 0s 22ms/step - loss: 0.0128\n",
      "Epoch 48/100\n",
      "12/12 [==============================] - 0s 23ms/step - loss: 0.0127\n",
      "Epoch 49/100\n",
      "12/12 [==============================] - 0s 17ms/step - loss: 0.0129\n",
      "Epoch 50/100\n",
      "12/12 [==============================] - 0s 16ms/step - loss: 0.0125\n",
      "Epoch 51/100\n",
      "12/12 [==============================] - 0s 16ms/step - loss: 0.0125\n",
      "Epoch 52/100\n",
      "12/12 [==============================] - 0s 17ms/step - loss: 0.0125\n",
      "Epoch 53/100\n",
      "12/12 [==============================] - 0s 17ms/step - loss: 0.0125\n",
      "Epoch 54/100\n",
      "12/12 [==============================] - 0s 20ms/step - loss: 0.0123\n",
      "Epoch 55/100\n",
      "12/12 [==============================] - 0s 18ms/step - loss: 0.0125\n",
      "Epoch 56/100\n",
      "12/12 [==============================] - 0s 16ms/step - loss: 0.0123\n",
      "Epoch 57/100\n",
      "12/12 [==============================] - 0s 17ms/step - loss: 0.0125\n",
      "Epoch 58/100\n",
      "12/12 [==============================] - 0s 16ms/step - loss: 0.0124\n",
      "Epoch 59/100\n",
      "12/12 [==============================] - 0s 16ms/step - loss: 0.0121\n",
      "Epoch 60/100\n",
      "12/12 [==============================] - 0s 16ms/step - loss: 0.0121\n",
      "Epoch 61/100\n",
      "12/12 [==============================] - 0s 16ms/step - loss: 0.0122\n",
      "Epoch 62/100\n",
      "12/12 [==============================] - 0s 17ms/step - loss: 0.0121\n",
      "Epoch 63/100\n",
      "12/12 [==============================] - 0s 16ms/step - loss: 0.0120\n",
      "Epoch 64/100\n",
      "12/12 [==============================] - 0s 16ms/step - loss: 0.0120\n",
      "Epoch 65/100\n",
      "12/12 [==============================] - 0s 16ms/step - loss: 0.0120\n",
      "Epoch 66/100\n",
      "12/12 [==============================] - 0s 16ms/step - loss: 0.0120\n",
      "Epoch 67/100\n",
      "12/12 [==============================] - 0s 16ms/step - loss: 0.0116\n",
      "Epoch 68/100\n",
      "12/12 [==============================] - 0s 17ms/step - loss: 0.0119\n",
      "Epoch 69/100\n",
      "12/12 [==============================] - 0s 15ms/step - loss: 0.0116\n",
      "Epoch 70/100\n",
      "12/12 [==============================] - 0s 17ms/step - loss: 0.0115\n",
      "Epoch 71/100\n",
      "12/12 [==============================] - 0s 16ms/step - loss: 0.0116\n",
      "Epoch 72/100\n",
      "12/12 [==============================] - 0s 21ms/step - loss: 0.0118\n",
      "Epoch 73/100\n",
      "12/12 [==============================] - 0s 21ms/step - loss: 0.0115\n",
      "Epoch 74/100\n",
      "12/12 [==============================] - 0s 22ms/step - loss: 0.0121\n",
      "Epoch 75/100\n",
      "12/12 [==============================] - 0s 16ms/step - loss: 0.0113\n",
      "Epoch 76/100\n",
      "12/12 [==============================] - 0s 17ms/step - loss: 0.0113\n",
      "Epoch 77/100\n",
      "12/12 [==============================] - 0s 17ms/step - loss: 0.0115\n",
      "Epoch 78/100\n",
      "12/12 [==============================] - 0s 17ms/step - loss: 0.0116\n",
      "Epoch 79/100\n",
      "12/12 [==============================] - 0s 18ms/step - loss: 0.0116\n",
      "Epoch 80/100\n",
      "12/12 [==============================] - 0s 30ms/step - loss: 0.0111\n",
      "Epoch 81/100\n",
      "12/12 [==============================] - 0s 23ms/step - loss: 0.0110\n",
      "Epoch 82/100\n",
      "12/12 [==============================] - 0s 22ms/step - loss: 0.0111\n",
      "Epoch 83/100\n",
      "12/12 [==============================] - 0s 29ms/step - loss: 0.0110\n",
      "Epoch 84/100\n",
      "12/12 [==============================] - 0s 19ms/step - loss: 0.0113\n",
      "Epoch 85/100\n",
      "12/12 [==============================] - 0s 23ms/step - loss: 0.0114\n",
      "Epoch 86/100\n",
      "12/12 [==============================] - 0s 25ms/step - loss: 0.0110\n",
      "Epoch 87/100\n",
      "12/12 [==============================] - 0s 22ms/step - loss: 0.0114\n",
      "Epoch 88/100\n",
      "12/12 [==============================] - 0s 21ms/step - loss: 0.0111\n",
      "Epoch 89/100\n",
      "12/12 [==============================] - 0s 19ms/step - loss: 0.0110\n",
      "Epoch 90/100\n",
      "12/12 [==============================] - 0s 19ms/step - loss: 0.0110\n",
      "Epoch 91/100\n",
      "12/12 [==============================] - 0s 21ms/step - loss: 0.0109\n",
      "Epoch 92/100\n",
      "12/12 [==============================] - 0s 25ms/step - loss: 0.0108\n",
      "Epoch 93/100\n",
      "12/12 [==============================] - 0s 22ms/step - loss: 0.0110\n",
      "Epoch 94/100\n",
      "12/12 [==============================] - 0s 19ms/step - loss: 0.0107\n",
      "Epoch 95/100\n",
      "12/12 [==============================] - 0s 18ms/step - loss: 0.0105\n",
      "Epoch 96/100\n",
      "12/12 [==============================] - 0s 17ms/step - loss: 0.0107\n",
      "Epoch 97/100\n",
      "12/12 [==============================] - 0s 20ms/step - loss: 0.0107\n",
      "Epoch 98/100\n",
      "12/12 [==============================] - 0s 20ms/step - loss: 0.0106\n",
      "Epoch 99/100\n",
      "12/12 [==============================] - 0s 19ms/step - loss: 0.0105\n",
      "Epoch 100/100\n",
      "12/12 [==============================] - 0s 22ms/step - loss: 0.0106\n"
     ]
    },
    {
     "output_type": "execute_result",
     "data": {
      "text/plain": [
       "<keras.callbacks.History at 0x7fb5c71b4b20>"
      ]
     },
     "metadata": {},
     "execution_count": 40
    }
   ],
   "metadata": {}
  },
  {
   "cell_type": "code",
   "execution_count": null,
   "source": [
    "model.summary()"
   ],
   "outputs": [
    {
     "output_type": "stream",
     "name": "stdout",
     "text": [
      "Model: \"sequential_1\"\n",
      "_________________________________________________________________\n",
      " Layer (type)                Output Shape              Param #   \n",
      "=================================================================\n",
      " lstm_2 (LSTM)               (None, 30, 1)             40        \n",
      "                                                                 \n",
      " dropout_2 (Dropout)         (None, 30, 1)             0         \n",
      "                                                                 \n",
      " lstm_3 (LSTM)               (None, 30, 1)             12        \n",
      "                                                                 \n",
      " dropout_3 (Dropout)         (None, 30, 1)             0         \n",
      "                                                                 \n",
      " dense_1 (Dense)             (None, 30, 1)             2         \n",
      "                                                                 \n",
      "=================================================================\n",
      "Total params: 54\n",
      "Trainable params: 54\n",
      "Non-trainable params: 0\n",
      "_________________________________________________________________\n"
     ]
    }
   ],
   "metadata": {}
  },
  {
   "cell_type": "code",
   "execution_count": null,
   "source": [
    "x_test = test_data.iloc[:, x_columns_to_scale]\n",
    "y_test = test_data.iloc[:, test_data.columns.get_loc(y_var)]"
   ],
   "outputs": [],
   "metadata": {}
  },
  {
   "cell_type": "code",
   "execution_count": null,
   "source": [
    "scaled_test = x_scaler.transform(x_test)\n",
    "\n",
    "final_x_test = []\n",
    "for i in range(tensor_size, len(y_test)):\n",
    "    final_x_test.append(scaled_test[i-tensor_size:i])\n",
    "\n",
    "final_x_test = np.array(final_x_test)\n",
    "\n",
    "final_x_test = np.reshape(final_x_test, (final_x_test.shape[0], final_x_test.shape[1], dim))"
   ],
   "outputs": [],
   "metadata": {}
  },
  {
   "cell_type": "code",
   "execution_count": null,
   "source": [
    "predictions = model.predict(final_x_test)"
   ],
   "outputs": [],
   "metadata": {}
  },
  {
   "cell_type": "code",
   "execution_count": null,
   "source": [
    "preds = {}\n",
    "for i in range(tensor_size):\n",
    "    preds[i] = predictions[:,:, 0][:, i].reshape(-1, 1)"
   ],
   "outputs": [],
   "metadata": {}
  },
  {
   "cell_type": "code",
   "execution_count": null,
   "source": [
    "prediction_df = pd.DataFrame(preds[0])\n",
    "for i in range(1, 30):\n",
    "    prediction_df[i] = preds[i]"
   ],
   "outputs": [],
   "metadata": {}
  },
  {
   "cell_type": "code",
   "execution_count": null,
   "source": [
    "preds = predictions[:,:, 0][:, 0].reshape(-1, 1)"
   ],
   "outputs": [],
   "metadata": {}
  },
  {
   "cell_type": "code",
   "execution_count": null,
   "source": [
    "predictions = y_scaler.inverse_transform(prediction_df)"
   ],
   "outputs": [],
   "metadata": {}
  },
  {
   "cell_type": "code",
   "execution_count": null,
   "source": [
    "!pip install eli5"
   ],
   "outputs": [
    {
     "output_type": "stream",
     "name": "stdout",
     "text": [
      "Collecting eli5\n",
      "  Downloading eli5-0.11.0-py2.py3-none-any.whl (106 kB)\n",
      "\u001b[2K     \u001b[90m━━━━━━━━━━━━━━━━━━━━━━━━━━━━━━━━━━━━━━━\u001b[0m \u001b[32m106.0/106.0 KB\u001b[0m \u001b[31m1.6 MB/s\u001b[0m eta \u001b[36m0:00:00\u001b[0m\n",
      "\u001b[?25hRequirement already satisfied: scikit-learn>=0.20 in /Users/ryanlucas/opt/anaconda3/lib/python3.8/site-packages (from eli5) (0.24.1)\n",
      "Requirement already satisfied: attrs>16.0.0 in /Users/ryanlucas/opt/anaconda3/lib/python3.8/site-packages (from eli5) (20.3.0)\n",
      "Collecting tabulate>=0.7.7\n",
      "  Downloading tabulate-0.8.9-py3-none-any.whl (25 kB)\n",
      "Requirement already satisfied: numpy>=1.9.0 in /Users/ryanlucas/opt/anaconda3/lib/python3.8/site-packages (from eli5) (1.22.3)\n",
      "Requirement already satisfied: graphviz in /Users/ryanlucas/opt/anaconda3/lib/python3.8/site-packages (from eli5) (0.19.1)\n",
      "Requirement already satisfied: six in /Users/ryanlucas/opt/anaconda3/lib/python3.8/site-packages (from eli5) (1.15.0)\n",
      "Requirement already satisfied: jinja2 in /Users/ryanlucas/opt/anaconda3/lib/python3.8/site-packages (from eli5) (2.11.3)\n",
      "Requirement already satisfied: scipy in /Users/ryanlucas/opt/anaconda3/lib/python3.8/site-packages (from eli5) (1.6.2)\n",
      "Requirement already satisfied: threadpoolctl>=2.0.0 in /Users/ryanlucas/opt/anaconda3/lib/python3.8/site-packages (from scikit-learn>=0.20->eli5) (2.1.0)\n",
      "Requirement already satisfied: joblib>=0.11 in /Users/ryanlucas/opt/anaconda3/lib/python3.8/site-packages (from scikit-learn>=0.20->eli5) (1.0.1)\n",
      "Requirement already satisfied: MarkupSafe>=0.23 in /Users/ryanlucas/opt/anaconda3/lib/python3.8/site-packages (from jinja2->eli5) (1.1.1)\n",
      "Installing collected packages: tabulate, eli5\n",
      "Successfully installed eli5-0.11.0 tabulate-0.8.9\n"
     ]
    }
   ],
   "metadata": {}
  },
  {
   "cell_type": "code",
   "execution_count": null,
   "source": [
    "import eli5\n",
    "from eli5.sklearn import PermutationImportance"
   ],
   "outputs": [],
   "metadata": {}
  },
  {
   "cell_type": "code",
   "execution_count": null,
   "source": [
    "fig, ax = plt.subplots()\n",
    "pd.DataFrame(predictions.mean(axis = 1)).plot(ax = ax, label = \"LSTM\")\n",
    "\n",
    "test_data['delta_cases_per_capita'].loc[test_data.index].shift(-1).iloc[:-tensor_size].plot(ax = ax, label = \"Actual\")\n",
    "ax.legend(['LSTM', \"Actual\"])"
   ],
   "outputs": [
    {
     "output_type": "execute_result",
     "data": {
      "text/plain": [
       "<matplotlib.legend.Legend at 0x7fb5c07f96a0>"
      ]
     },
     "metadata": {},
     "execution_count": 49
    },
    {
     "output_type": "display_data",
     "data": {
      "image/png": "[encoded data removed]",
      "text/plain": [
       "<Figure size 432x288 with 1 Axes>"
      ]
     },
     "metadata": {
      "needs_background": "light"
     }
    }
   ],
   "metadata": {}
  },
  {
   "cell_type": "code",
   "execution_count": null,
   "source": [
    "import shap"
   ],
   "outputs": [],
   "metadata": {}
  }
 ],
 "metadata": {
  "orig_nbformat": 4,
  "language_info": {
   "name": "python",
   "version": "3.8.8",
   "mimetype": "text/x-python",
   "codemirror_mode": {
    "name": "ipython",
    "version": 3
   },
   "pygments_lexer": "ipython3",
   "nbconvert_exporter": "python",
   "file_extension": ".py"
  },
  "kernelspec": {
   "name": "python3",
   "display_name": "Python 3.8.8 64-bit ('base': conda)"
  },
  "interpreter": {
   "hash": "4e7a58de4b7e505b0e82f0adcc21bb9621f61c2c1c0bdf66b0394a18a0c298a7"
  }
 },
 "nbformat": 4,
 "nbformat_minor": 2
}