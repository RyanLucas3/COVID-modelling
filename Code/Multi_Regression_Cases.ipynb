{
 "cells": [
  {
   "cell_type": "markdown",
   "source": [
    "**Multivariate Regression: Cases**"
   ],
   "metadata": {}
  },
  {
   "cell_type": "code",
   "execution_count": 8,
   "source": [
    "import pandas as pd\n",
    "import numpy as np\n",
    "from itertools import product\n",
    "import warnings\n",
    "warnings.filterwarnings(\"ignore\")"
   ],
   "outputs": [],
   "metadata": {}
  },
  {
   "cell_type": "code",
   "execution_count": 9,
   "source": [
    "combined = pd.read_csv(\"Data/Combined_Dataset.csv\", index_col=\"Unnamed: 0\")"
   ],
   "outputs": [],
   "metadata": {}
  },
  {
   "cell_type": "code",
   "execution_count": 10,
   "source": [
    "combined.set_index(\"date\", inplace = True)"
   ],
   "outputs": [],
   "metadata": {}
  },
  {
   "cell_type": "code",
   "execution_count": 11,
   "source": [
    "y_var = 'delta_cases_per_capita'"
   ],
   "outputs": [],
   "metadata": {}
  },
  {
   "cell_type": "code",
   "execution_count": 12,
   "source": [
    "from statsmodels.tsa.arima.model import ARIMA\n",
    "from tqdm import tqdm\n",
    "import statsmodels.formula.api as sm"
   ],
   "outputs": [],
   "metadata": {}
  },
  {
   "cell_type": "code",
   "execution_count": 13,
   "source": [
    "combined['delta_cases_per_capita_l1'] = combined['delta_cases_per_capita'].shift(1).fillna(0)"
   ],
   "outputs": [],
   "metadata": {}
  },
  {
   "cell_type": "code",
   "execution_count": 14,
   "source": [
    "combined.rename(columns = {\"delta_deaths_per_capita_United Kingdom\": \"delta_deaths_per_capita_United_Kingdom\"}, inplace = True)"
   ],
   "outputs": [],
   "metadata": {}
  },
  {
   "cell_type": "code",
   "execution_count": 15,
   "source": [
    "combined['delta_cases_per_capita_l2']= combined['delta_cases_per_capita'].shift(2).fillna(0)\n",
    "combined['delta_cases_per_capita_l3']= combined['delta_cases_per_capita'].shift(3).fillna(0)\n",
    "combined['delta_cases_per_capita_l4']= combined['delta_cases_per_capita'].shift(4).fillna(0)\n",
    "combined['delta_cases_per_capita_l5']= combined['delta_cases_per_capita'].shift(5).fillna(0)\n",
    "combined['delta_cases_per_capita_l6']= combined['delta_cases_per_capita'].shift(6).fillna(0)\n",
    "combined['delta_cases_per_capita_l7']= combined['delta_cases_per_capita'].shift(7).fillna(0)\n",
    "combined['delta_cases_per_capita_l14']= combined['delta_cases_per_capita'].shift(14).fillna(0)\n",
    "combined['delta_cases_per_capita_l30']= combined['delta_cases_per_capita'].shift(30).fillna(0)"
   ],
   "outputs": [],
   "metadata": {}
  },
  {
   "cell_type": "code",
   "execution_count": 16,
   "source": [
    "model=sm.ols(f'delta_cases_per_capita ~ delta_cases_per_capita_United_Kingdom +  delta_cases_per_capita_l1  +  delta_cases_per_capita_l2 +  delta_cases_per_capita_l3 +  delta_cases_per_capita_l4 +  delta_cases_per_capita_l5 +  delta_cases_per_capita_l6 + +  delta_cases_per_capita_l7 + delta_cases_per_capita_l14 + delta_cases_per_capita_l30+ log_new_vaccines_per_capita + delta_deaths_per_capita', data= combined)\n",
    "results=model.fit(cov_type='HAC',\n",
    "                                            cov_kwds={'maxlags':12,'use_correction':True})\n",
    "\n",
    "\n"
   ],
   "outputs": [],
   "metadata": {}
  },
  {
   "cell_type": "code",
   "execution_count": 17,
   "source": [
    "for table in results.summary().tables:\n",
    "    print(table.as_latex_tabular())"
   ],
   "outputs": [
    {
     "output_type": "stream",
     "name": "stdout",
     "text": [
      "\\begin{center}\n",
      "\\begin{tabular}{lclc}\n",
      "\\toprule\n",
      "\\textbf{Dep. Variable:}    & delta\\_cases\\_per\\_capita & \\textbf{  R-squared:         } &     0.915   \\\\\n",
      "\\textbf{Model:}            &            OLS            & \\textbf{  Adj. R-squared:    } &     0.913   \\\\\n",
      "\\textbf{Method:}           &       Least Squares       & \\textbf{  F-statistic:       } &     722.3   \\\\\n",
      "\\textbf{Date:}             &      Thu, 12 May 2022     & \\textbf{  Prob (F-statistic):} &     0.00    \\\\\n",
      "\\textbf{Time:}             &          10:57:09         & \\textbf{  Log-Likelihood:    } &    5121.1   \\\\\n",
      "\\textbf{No. Observations:} &              611          & \\textbf{  AIC:               } & -1.022e+04  \\\\\n",
      "\\textbf{Df Residuals:}     &              598          & \\textbf{  BIC:               } & -1.016e+04  \\\\\n",
      "\\textbf{Df Model:}         &               12          & \\textbf{                     } &             \\\\\n",
      "\\textbf{Covariance Type:}  &            HAC            & \\textbf{                     } &             \\\\\n",
      "\\bottomrule\n",
      "\\end{tabular}\n",
      "%\\caption{OLS Regression Results}\n",
      "\\end{center}\n",
      "\\begin{center}\n",
      "\\begin{tabular}{lcccccc}\n",
      "\\toprule\n",
      "                                                    & \\textbf{coef} & \\textbf{std err} & \\textbf{z} & \\textbf{P$> |$z$|$} & \\textbf{[0.025} & \\textbf{0.975]}  \\\\\n",
      "\\midrule\n",
      "\\textbf{Intercept}                                  &   -4.914e-07  &     2.81e-06     &    -0.175  &         0.861        &    -5.99e-06    &     5.01e-06     \\\\\n",
      "\\textbf{delta\\_cases\\_per\\_capita\\_United\\_Kingdom} &       0.1266  &        0.038     &     3.326  &         0.001        &        0.052    &        0.201     \\\\\n",
      "\\textbf{delta\\_cases\\_per\\_capita\\_l1}              &       0.5124  &        0.117     &     4.386  &         0.000        &        0.283    &        0.741     \\\\\n",
      "\\textbf{delta\\_cases\\_per\\_capita\\_l2}              &       0.4030  &        0.152     &     2.648  &         0.008        &        0.105    &        0.701     \\\\\n",
      "\\textbf{delta\\_cases\\_per\\_capita\\_l3}              &       0.0406  &        0.106     &     0.384  &         0.701        &       -0.166    &        0.247     \\\\\n",
      "\\textbf{delta\\_cases\\_per\\_capita\\_l4}              &       0.0836  &        0.085     &     0.988  &         0.323        &       -0.082    &        0.249     \\\\\n",
      "\\textbf{delta\\_cases\\_per\\_capita\\_l5}              &      -0.2506  &        0.082     &    -3.046  &         0.002        &       -0.412    &       -0.089     \\\\\n",
      "\\textbf{delta\\_cases\\_per\\_capita\\_l6}              &      -0.0460  &        0.127     &    -0.361  &         0.718        &       -0.295    &        0.204     \\\\\n",
      "\\textbf{delta\\_cases\\_per\\_capita\\_l7}              &       0.0810  &        0.085     &     0.957  &         0.339        &       -0.085    &        0.247     \\\\\n",
      "\\textbf{delta\\_cases\\_per\\_capita\\_l14}             &      -0.0197  &        0.018     &    -1.122  &         0.262        &       -0.054    &        0.015     \\\\\n",
      "\\textbf{delta\\_cases\\_per\\_capita\\_l30}             &      -0.0149  &        0.013     &    -1.113  &         0.266        &       -0.041    &        0.011     \\\\\n",
      "\\textbf{log\\_new\\_vaccines\\_per\\_capita}            &     611.0417  &      405.932     &     1.505  &         0.132        &     -184.570    &     1406.654     \\\\\n",
      "\\textbf{delta\\_deaths\\_per\\_capita}                 &       1.2031  &        1.174     &     1.024  &         0.306        &       -1.099    &        3.505     \\\\\n",
      "\\bottomrule\n",
      "\\end{tabular}\n",
      "\\end{center}\n",
      "\\begin{center}\n",
      "\\begin{tabular}{lclc}\n",
      "\\toprule\n",
      "\\textbf{Omnibus:}       & 213.182 & \\textbf{  Durbin-Watson:     } &     1.982  \\\\\n",
      "\\textbf{Prob(Omnibus):} &   0.000 & \\textbf{  Jarque-Bera (JB):  } & 10878.133  \\\\\n",
      "\\textbf{Skew:}          &   0.724 & \\textbf{  Prob(JB):          } &      0.00  \\\\\n",
      "\\textbf{Kurtosis:}      &  23.620 & \\textbf{  Cond. No.          } &  7.06e+07  \\\\\n",
      "\\bottomrule\n",
      "\\end{tabular}\n",
      "\\end{center}\n"
     ]
    }
   ],
   "metadata": {}
  }
 ],
 "metadata": {
  "orig_nbformat": 4,
  "language_info": {
   "name": "python",
   "version": "3.8.8",
   "mimetype": "text/x-python",
   "codemirror_mode": {
    "name": "ipython",
    "version": 3
   },
   "pygments_lexer": "ipython3",
   "nbconvert_exporter": "python",
   "file_extension": ".py"
  },
  "kernelspec": {
   "name": "python3",
   "display_name": "Python 3.8.8 64-bit ('base': conda)"
  },
  "interpreter": {
   "hash": "4e7a58de4b7e505b0e82f0adcc21bb9621f61c2c1c0bdf66b0394a18a0c298a7"
  }
 },
 "nbformat": 4,
 "nbformat_minor": 2
}